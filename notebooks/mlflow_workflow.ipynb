{
  "cells": [
    {
      "attachments": {},
      "cell_type": "markdown",
      "metadata": {},
      "source": [
        "## 0)Setup"
      ]
    },
    {
      "cell_type": "code",
      "execution_count": 1,
      "metadata": {},
      "outputs": [
        {
          "data": {
            "text/plain": [
              "'c:\\\\Users\\\\danie\\\\OneDrive\\\\Escritorio\\\\Data Science\\\\1. Python Projects\\\\mlflow_sandbox\\\\notebooks'"
            ]
          },
          "execution_count": 1,
          "metadata": {},
          "output_type": "execute_result"
        }
      ],
      "source": [
        "import os\n",
        "os.getcwd()"
      ]
    },
    {
      "cell_type": "code",
      "execution_count": null,
      "metadata": {
        "id": "Q-fLE9VQZAL4",
        "tags": []
      },
      "outputs": [],
      "source": [
        "import pandas as pd \n",
        "import mlflow\n",
        "from mlflow.models import Model, infer_signature\n",
        "import numpy as np \n",
        "import matplotlib.pyplot as plt\n",
        "plt.style.use(\"ggplot\")\n",
        "import seaborn as sns\n",
        "import optuna\n",
        "import imblearn\n",
        "from imblearn.over_sampling import BorderlineSMOTE\n",
        "import shap\n",
        "from sklearn.model_selection import train_test_split\n",
        "from sklearn.preprocessing import MinMaxScaler\n",
        "from sklearn.metrics import (f1_score,\n",
        "                             accuracy_score,\n",
        "                             precision_score,\n",
        "                             recall_score,\n",
        "                             classification_report,\n",
        "                             confusion_matrix\n",
        "                            )\n",
        "from lightgbm import LGBMClassifier, log_evaluation, early_stopping,record_evaluation\n",
        "import sys\n",
        "sys.path.insert(0, \"../utils\")\n",
        "from utils import to_labels, plot_confusion_matrix\n",
        "\n",
        "import warnings\n",
        "warnings.filterwarnings(\"ignore\")"
      ]
    },
    {
      "cell_type": "code",
      "execution_count": 3,
      "metadata": {},
      "outputs": [
        {
          "data": {
            "text/plain": [
              "'c:\\\\Users\\\\danie\\\\OneDrive\\\\Escritorio\\\\Data Science\\\\1. Python Projects\\\\mlflow_sandbox'"
            ]
          },
          "execution_count": 3,
          "metadata": {},
          "output_type": "execute_result"
        }
      ],
      "source": [
        "os.path.dirname(os.getcwd())"
      ]
    },
    {
      "cell_type": "code",
      "execution_count": 4,
      "metadata": {},
      "outputs": [],
      "source": [
        "data_dir = \"../data/raw\"\n",
        "model_dir = \"../models\"\n",
        "reports_dir = \"../reports\""
      ]
    },
    {
      "attachments": {},
      "cell_type": "markdown",
      "metadata": {},
      "source": [
        "### 1)Load Data"
      ]
    },
    {
      "cell_type": "code",
      "execution_count": 5,
      "metadata": {},
      "outputs": [],
      "source": [
        "train_file = \"train.feather\"\n",
        "test_file = \"test.feather\""
      ]
    },
    {
      "cell_type": "code",
      "execution_count": 6,
      "metadata": {},
      "outputs": [],
      "source": [
        "train = pd.read_feather(os.path.join(data_dir, train_file))\n",
        "test = pd.read_feather(os.path.join(data_dir, test_file))"
      ]
    },
    {
      "cell_type": "code",
      "execution_count": 7,
      "metadata": {},
      "outputs": [
        {
          "data": {
            "text/html": [
              "<div>\n",
              "<style scoped>\n",
              "    .dataframe tbody tr th:only-of-type {\n",
              "        vertical-align: middle;\n",
              "    }\n",
              "\n",
              "    .dataframe tbody tr th {\n",
              "        vertical-align: top;\n",
              "    }\n",
              "\n",
              "    .dataframe thead th {\n",
              "        text-align: right;\n",
              "    }\n",
              "</style>\n",
              "<table border=\"1\" class=\"dataframe\">\n",
              "  <thead>\n",
              "    <tr style=\"text-align: right;\">\n",
              "      <th></th>\n",
              "      <th>Time</th>\n",
              "      <th>V1</th>\n",
              "      <th>V2</th>\n",
              "      <th>V3</th>\n",
              "      <th>V4</th>\n",
              "      <th>V5</th>\n",
              "      <th>V6</th>\n",
              "      <th>V7</th>\n",
              "      <th>V8</th>\n",
              "      <th>V9</th>\n",
              "      <th>...</th>\n",
              "      <th>V21</th>\n",
              "      <th>V22</th>\n",
              "      <th>V23</th>\n",
              "      <th>V24</th>\n",
              "      <th>V25</th>\n",
              "      <th>V26</th>\n",
              "      <th>V27</th>\n",
              "      <th>V28</th>\n",
              "      <th>Amount</th>\n",
              "      <th>Class</th>\n",
              "    </tr>\n",
              "  </thead>\n",
              "  <tbody>\n",
              "    <tr>\n",
              "      <th>0</th>\n",
              "      <td>61848.0</td>\n",
              "      <td>-6.493504</td>\n",
              "      <td>-7.916078</td>\n",
              "      <td>1.766599</td>\n",
              "      <td>3.691802</td>\n",
              "      <td>8.601778</td>\n",
              "      <td>-5.285099</td>\n",
              "      <td>-5.093447</td>\n",
              "      <td>0.681439</td>\n",
              "      <td>-0.327785</td>\n",
              "      <td>...</td>\n",
              "      <td>0.784551</td>\n",
              "      <td>-0.085752</td>\n",
              "      <td>1.304263</td>\n",
              "      <td>-0.233903</td>\n",
              "      <td>0.963243</td>\n",
              "      <td>0.056030</td>\n",
              "      <td>-0.200075</td>\n",
              "      <td>0.250360</td>\n",
              "      <td>35.00</td>\n",
              "      <td>0</td>\n",
              "    </tr>\n",
              "    <tr>\n",
              "      <th>1</th>\n",
              "      <td>137724.0</td>\n",
              "      <td>2.148813</td>\n",
              "      <td>-0.074116</td>\n",
              "      <td>-2.573260</td>\n",
              "      <td>-0.337782</td>\n",
              "      <td>1.000894</td>\n",
              "      <td>-0.596484</td>\n",
              "      <td>0.502468</td>\n",
              "      <td>-0.201749</td>\n",
              "      <td>0.256163</td>\n",
              "      <td>...</td>\n",
              "      <td>0.126097</td>\n",
              "      <td>0.365870</td>\n",
              "      <td>-0.086476</td>\n",
              "      <td>-0.105702</td>\n",
              "      <td>0.457918</td>\n",
              "      <td>0.247134</td>\n",
              "      <td>-0.104046</td>\n",
              "      <td>-0.094673</td>\n",
              "      <td>1.89</td>\n",
              "      <td>0</td>\n",
              "    </tr>\n",
              "    <tr>\n",
              "      <th>2</th>\n",
              "      <td>38779.0</td>\n",
              "      <td>1.214958</td>\n",
              "      <td>0.085191</td>\n",
              "      <td>-0.210376</td>\n",
              "      <td>1.084983</td>\n",
              "      <td>0.504175</td>\n",
              "      <td>0.628632</td>\n",
              "      <td>0.066488</td>\n",
              "      <td>0.072260</td>\n",
              "      <td>0.395040</td>\n",
              "      <td>...</td>\n",
              "      <td>-0.179553</td>\n",
              "      <td>-0.333495</td>\n",
              "      <td>-0.256230</td>\n",
              "      <td>-1.308241</td>\n",
              "      <td>0.838409</td>\n",
              "      <td>-0.228402</td>\n",
              "      <td>0.032831</td>\n",
              "      <td>0.006043</td>\n",
              "      <td>33.43</td>\n",
              "      <td>0</td>\n",
              "    </tr>\n",
              "    <tr>\n",
              "      <th>3</th>\n",
              "      <td>146602.0</td>\n",
              "      <td>1.982180</td>\n",
              "      <td>-0.471654</td>\n",
              "      <td>-2.200225</td>\n",
              "      <td>-0.513788</td>\n",
              "      <td>1.962852</td>\n",
              "      <td>3.656344</td>\n",
              "      <td>-1.197833</td>\n",
              "      <td>1.021124</td>\n",
              "      <td>0.970691</td>\n",
              "      <td>...</td>\n",
              "      <td>0.178298</td>\n",
              "      <td>0.622512</td>\n",
              "      <td>0.141426</td>\n",
              "      <td>0.667823</td>\n",
              "      <td>-0.177522</td>\n",
              "      <td>0.663821</td>\n",
              "      <td>0.010158</td>\n",
              "      <td>-0.029923</td>\n",
              "      <td>5.40</td>\n",
              "      <td>0</td>\n",
              "    </tr>\n",
              "    <tr>\n",
              "      <th>4</th>\n",
              "      <td>54532.0</td>\n",
              "      <td>1.449681</td>\n",
              "      <td>-0.394615</td>\n",
              "      <td>-0.175006</td>\n",
              "      <td>-0.686506</td>\n",
              "      <td>-0.649152</td>\n",
              "      <td>-0.977233</td>\n",
              "      <td>-0.190287</td>\n",
              "      <td>-0.288279</td>\n",
              "      <td>-0.955334</td>\n",
              "      <td>...</td>\n",
              "      <td>-0.481098</td>\n",
              "      <td>-0.920193</td>\n",
              "      <td>-0.007627</td>\n",
              "      <td>-0.099904</td>\n",
              "      <td>0.368140</td>\n",
              "      <td>1.042930</td>\n",
              "      <td>-0.079473</td>\n",
              "      <td>-0.004652</td>\n",
              "      <td>9.00</td>\n",
              "      <td>0</td>\n",
              "    </tr>\n",
              "  </tbody>\n",
              "</table>\n",
              "<p>5 rows × 31 columns</p>\n",
              "</div>"
            ],
            "text/plain": [
              "       Time        V1        V2        V3        V4        V5        V6  \\\n",
              "0   61848.0 -6.493504 -7.916078  1.766599  3.691802  8.601778 -5.285099   \n",
              "1  137724.0  2.148813 -0.074116 -2.573260 -0.337782  1.000894 -0.596484   \n",
              "2   38779.0  1.214958  0.085191 -0.210376  1.084983  0.504175  0.628632   \n",
              "3  146602.0  1.982180 -0.471654 -2.200225 -0.513788  1.962852  3.656344   \n",
              "4   54532.0  1.449681 -0.394615 -0.175006 -0.686506 -0.649152 -0.977233   \n",
              "\n",
              "         V7        V8        V9  ...       V21       V22       V23       V24  \\\n",
              "0 -5.093447  0.681439 -0.327785  ...  0.784551 -0.085752  1.304263 -0.233903   \n",
              "1  0.502468 -0.201749  0.256163  ...  0.126097  0.365870 -0.086476 -0.105702   \n",
              "2  0.066488  0.072260  0.395040  ... -0.179553 -0.333495 -0.256230 -1.308241   \n",
              "3 -1.197833  1.021124  0.970691  ...  0.178298  0.622512  0.141426  0.667823   \n",
              "4 -0.190287 -0.288279 -0.955334  ... -0.481098 -0.920193 -0.007627 -0.099904   \n",
              "\n",
              "        V25       V26       V27       V28  Amount  Class  \n",
              "0  0.963243  0.056030 -0.200075  0.250360   35.00      0  \n",
              "1  0.457918  0.247134 -0.104046 -0.094673    1.89      0  \n",
              "2  0.838409 -0.228402  0.032831  0.006043   33.43      0  \n",
              "3 -0.177522  0.663821  0.010158 -0.029923    5.40      0  \n",
              "4  0.368140  1.042930 -0.079473 -0.004652    9.00      0  \n",
              "\n",
              "[5 rows x 31 columns]"
            ]
          },
          "execution_count": 7,
          "metadata": {},
          "output_type": "execute_result"
        }
      ],
      "source": [
        "train.head()"
      ]
    },
    {
      "cell_type": "code",
      "execution_count": 8,
      "metadata": {},
      "outputs": [
        {
          "data": {
            "text/plain": [
              "(227845, 31)"
            ]
          },
          "execution_count": 8,
          "metadata": {},
          "output_type": "execute_result"
        }
      ],
      "source": [
        "train.shape"
      ]
    },
    {
      "cell_type": "code",
      "execution_count": 9,
      "metadata": {},
      "outputs": [
        {
          "data": {
            "text/html": [
              "<div>\n",
              "<style scoped>\n",
              "    .dataframe tbody tr th:only-of-type {\n",
              "        vertical-align: middle;\n",
              "    }\n",
              "\n",
              "    .dataframe tbody tr th {\n",
              "        vertical-align: top;\n",
              "    }\n",
              "\n",
              "    .dataframe thead th {\n",
              "        text-align: right;\n",
              "    }\n",
              "</style>\n",
              "<table border=\"1\" class=\"dataframe\">\n",
              "  <thead>\n",
              "    <tr style=\"text-align: right;\">\n",
              "      <th></th>\n",
              "      <th>Time</th>\n",
              "      <th>V1</th>\n",
              "      <th>V2</th>\n",
              "      <th>V3</th>\n",
              "      <th>V4</th>\n",
              "      <th>V5</th>\n",
              "      <th>V6</th>\n",
              "      <th>V7</th>\n",
              "      <th>V8</th>\n",
              "      <th>V9</th>\n",
              "      <th>...</th>\n",
              "      <th>V21</th>\n",
              "      <th>V22</th>\n",
              "      <th>V23</th>\n",
              "      <th>V24</th>\n",
              "      <th>V25</th>\n",
              "      <th>V26</th>\n",
              "      <th>V27</th>\n",
              "      <th>V28</th>\n",
              "      <th>Amount</th>\n",
              "      <th>Class</th>\n",
              "    </tr>\n",
              "  </thead>\n",
              "  <tbody>\n",
              "    <tr>\n",
              "      <th>0</th>\n",
              "      <td>79680.0</td>\n",
              "      <td>0.072884</td>\n",
              "      <td>1.906549</td>\n",
              "      <td>-1.123671</td>\n",
              "      <td>1.180339</td>\n",
              "      <td>0.982895</td>\n",
              "      <td>-1.282922</td>\n",
              "      <td>0.374382</td>\n",
              "      <td>-1.848341</td>\n",
              "      <td>-0.922512</td>\n",
              "      <td>...</td>\n",
              "      <td>1.435803</td>\n",
              "      <td>-0.734119</td>\n",
              "      <td>-0.200428</td>\n",
              "      <td>0.209109</td>\n",
              "      <td>0.759462</td>\n",
              "      <td>-0.354700</td>\n",
              "      <td>0.277330</td>\n",
              "      <td>0.342436</td>\n",
              "      <td>0.89</td>\n",
              "      <td>0</td>\n",
              "    </tr>\n",
              "    <tr>\n",
              "      <th>1</th>\n",
              "      <td>166220.0</td>\n",
              "      <td>-0.239676</td>\n",
              "      <td>1.182107</td>\n",
              "      <td>-0.954990</td>\n",
              "      <td>-0.708438</td>\n",
              "      <td>0.826872</td>\n",
              "      <td>-0.280183</td>\n",
              "      <td>0.588853</td>\n",
              "      <td>0.474327</td>\n",
              "      <td>-0.481798</td>\n",
              "      <td>...</td>\n",
              "      <td>-0.261750</td>\n",
              "      <td>-0.800380</td>\n",
              "      <td>0.132014</td>\n",
              "      <td>0.092269</td>\n",
              "      <td>-0.353179</td>\n",
              "      <td>0.123095</td>\n",
              "      <td>0.086471</td>\n",
              "      <td>0.008750</td>\n",
              "      <td>24.98</td>\n",
              "      <td>0</td>\n",
              "    </tr>\n",
              "    <tr>\n",
              "      <th>2</th>\n",
              "      <td>79461.0</td>\n",
              "      <td>-0.381912</td>\n",
              "      <td>0.962363</td>\n",
              "      <td>1.100900</td>\n",
              "      <td>-0.419900</td>\n",
              "      <td>0.579052</td>\n",
              "      <td>0.089269</td>\n",
              "      <td>0.576797</td>\n",
              "      <td>0.149084</td>\n",
              "      <td>-0.593799</td>\n",
              "      <td>...</td>\n",
              "      <td>-0.250622</td>\n",
              "      <td>-0.687159</td>\n",
              "      <td>-0.178411</td>\n",
              "      <td>-0.853501</td>\n",
              "      <td>-0.063541</td>\n",
              "      <td>0.125720</td>\n",
              "      <td>0.260444</td>\n",
              "      <td>0.099496</td>\n",
              "      <td>2.58</td>\n",
              "      <td>0</td>\n",
              "    </tr>\n",
              "    <tr>\n",
              "      <th>3</th>\n",
              "      <td>16048.0</td>\n",
              "      <td>-1.006068</td>\n",
              "      <td>0.906788</td>\n",
              "      <td>0.958097</td>\n",
              "      <td>-1.535553</td>\n",
              "      <td>0.313330</td>\n",
              "      <td>-0.154731</td>\n",
              "      <td>0.343664</td>\n",
              "      <td>0.014661</td>\n",
              "      <td>2.228814</td>\n",
              "      <td>...</td>\n",
              "      <td>-0.461989</td>\n",
              "      <td>-0.735880</td>\n",
              "      <td>-0.074931</td>\n",
              "      <td>-0.922726</td>\n",
              "      <td>-0.065290</td>\n",
              "      <td>0.734702</td>\n",
              "      <td>0.287978</td>\n",
              "      <td>0.020499</td>\n",
              "      <td>6.15</td>\n",
              "      <td>0</td>\n",
              "    </tr>\n",
              "    <tr>\n",
              "      <th>4</th>\n",
              "      <td>150259.0</td>\n",
              "      <td>-0.832252</td>\n",
              "      <td>0.731328</td>\n",
              "      <td>1.102492</td>\n",
              "      <td>-0.873907</td>\n",
              "      <td>1.143540</td>\n",
              "      <td>0.661445</td>\n",
              "      <td>1.032933</td>\n",
              "      <td>0.254026</td>\n",
              "      <td>-0.511328</td>\n",
              "      <td>...</td>\n",
              "      <td>-0.151238</td>\n",
              "      <td>-0.356741</td>\n",
              "      <td>-0.219238</td>\n",
              "      <td>-1.028440</td>\n",
              "      <td>0.374073</td>\n",
              "      <td>0.496701</td>\n",
              "      <td>-0.006605</td>\n",
              "      <td>0.027265</td>\n",
              "      <td>26.12</td>\n",
              "      <td>0</td>\n",
              "    </tr>\n",
              "  </tbody>\n",
              "</table>\n",
              "<p>5 rows × 31 columns</p>\n",
              "</div>"
            ],
            "text/plain": [
              "       Time        V1        V2        V3        V4        V5        V6  \\\n",
              "0   79680.0  0.072884  1.906549 -1.123671  1.180339  0.982895 -1.282922   \n",
              "1  166220.0 -0.239676  1.182107 -0.954990 -0.708438  0.826872 -0.280183   \n",
              "2   79461.0 -0.381912  0.962363  1.100900 -0.419900  0.579052  0.089269   \n",
              "3   16048.0 -1.006068  0.906788  0.958097 -1.535553  0.313330 -0.154731   \n",
              "4  150259.0 -0.832252  0.731328  1.102492 -0.873907  1.143540  0.661445   \n",
              "\n",
              "         V7        V8        V9  ...       V21       V22       V23       V24  \\\n",
              "0  0.374382 -1.848341 -0.922512  ...  1.435803 -0.734119 -0.200428  0.209109   \n",
              "1  0.588853  0.474327 -0.481798  ... -0.261750 -0.800380  0.132014  0.092269   \n",
              "2  0.576797  0.149084 -0.593799  ... -0.250622 -0.687159 -0.178411 -0.853501   \n",
              "3  0.343664  0.014661  2.228814  ... -0.461989 -0.735880 -0.074931 -0.922726   \n",
              "4  1.032933  0.254026 -0.511328  ... -0.151238 -0.356741 -0.219238 -1.028440   \n",
              "\n",
              "        V25       V26       V27       V28  Amount  Class  \n",
              "0  0.759462 -0.354700  0.277330  0.342436    0.89      0  \n",
              "1 -0.353179  0.123095  0.086471  0.008750   24.98      0  \n",
              "2 -0.063541  0.125720  0.260444  0.099496    2.58      0  \n",
              "3 -0.065290  0.734702  0.287978  0.020499    6.15      0  \n",
              "4  0.374073  0.496701 -0.006605  0.027265   26.12      0  \n",
              "\n",
              "[5 rows x 31 columns]"
            ]
          },
          "execution_count": 9,
          "metadata": {},
          "output_type": "execute_result"
        }
      ],
      "source": [
        "test.head()"
      ]
    },
    {
      "cell_type": "code",
      "execution_count": 10,
      "metadata": {},
      "outputs": [
        {
          "data": {
            "text/plain": [
              "(56962, 31)"
            ]
          },
          "execution_count": 10,
          "metadata": {},
          "output_type": "execute_result"
        }
      ],
      "source": [
        "test.shape"
      ]
    },
    {
      "attachments": {},
      "cell_type": "markdown",
      "metadata": {},
      "source": [
        "### 2)EDA"
      ]
    },
    {
      "cell_type": "code",
      "execution_count": 11,
      "metadata": {},
      "outputs": [
        {
          "data": {
            "text/plain": [
              "Class\n",
              "0    0.998275\n",
              "1    0.001725\n",
              "Name: proportion, dtype: float64"
            ]
          },
          "execution_count": 11,
          "metadata": {},
          "output_type": "execute_result"
        }
      ],
      "source": [
        "train[\"Class\"].value_counts(normalize=True)"
      ]
    },
    {
      "cell_type": "code",
      "execution_count": 12,
      "metadata": {},
      "outputs": [
        {
          "data": {
            "text/plain": [
              "Class\n",
              "0    0.998262\n",
              "1    0.001738\n",
              "Name: proportion, dtype: float64"
            ]
          },
          "execution_count": 12,
          "metadata": {},
          "output_type": "execute_result"
        }
      ],
      "source": [
        "test[\"Class\"].value_counts(normalize=True)"
      ]
    },
    {
      "attachments": {},
      "cell_type": "markdown",
      "metadata": {},
      "source": [
        "### 3)MLFLow"
      ]
    },
    {
      "attachments": {},
      "cell_type": "markdown",
      "metadata": {},
      "source": [
        "#### 3.1)Experiment Setup"
      ]
    },
    {
      "cell_type": "code",
      "execution_count": 23,
      "metadata": {},
      "outputs": [
        {
          "data": {
            "text/plain": [
              "'file:\\\\c:\\\\Users\\\\danie\\\\OneDrive\\\\Escritorio\\\\Data Science\\\\1. Python Projects\\\\mlflow_sandbox\\\\mlruns'"
            ]
          },
          "execution_count": 23,
          "metadata": {},
          "output_type": "execute_result"
        }
      ],
      "source": [
        "# Track on localhost --> ./mlruns\n",
        "mlflow_dir = \"file:\\\\\" + os.path.join(os.path.dirname(os.getcwd()), \"mlruns\")\n",
        "exp_name = \"Creditcard_Fraud_Detection\"\n",
        "model_name = \"creditcard_model\"\n",
        "mlflow_dir"
      ]
    },
    {
      "cell_type": "code",
      "execution_count": 24,
      "metadata": {
        "id": "HOjQSc30ZAL6",
        "tags": []
      },
      "outputs": [],
      "source": [
        "#MLFlow Setup: https://www.mlflow.org/docs/latest/tracking.html#scenario-1-mlflow-on-localhost\n",
        "mlflow.set_tracking_uri(mlflow_dir)"
      ]
    },
    {
      "cell_type": "code",
      "execution_count": 25,
      "metadata": {},
      "outputs": [
        {
          "data": {
            "text/plain": [
              "'file:\\\\c:\\\\Users\\\\danie\\\\OneDrive\\\\Escritorio\\\\Data Science\\\\1. Python Projects\\\\mlflow_sandbox\\\\mlruns'"
            ]
          },
          "execution_count": 25,
          "metadata": {},
          "output_type": "execute_result"
        }
      ],
      "source": [
        "mlflow.get_tracking_uri()"
      ]
    },
    {
      "cell_type": "code",
      "execution_count": 26,
      "metadata": {},
      "outputs": [],
      "source": [
        "#Tracking uri must be set first with mlflow.set_tracking_uri()\n",
        "client = mlflow.tracking.MlflowClient()"
      ]
    },
    {
      "cell_type": "code",
      "execution_count": 27,
      "metadata": {},
      "outputs": [],
      "source": [
        "# #Delete existing experiment and registered model\n",
        "# client.delete_experiment(client.get_experiment_by_name(exp_name).experiment_id)\n",
        "# client.delete_registered_model(name=model_name)"
      ]
    },
    {
      "cell_type": "code",
      "execution_count": 28,
      "metadata": {
        "id": "71vL92zyZAL9",
        "tags": []
      },
      "outputs": [
        {
          "name": "stdout",
          "output_type": "stream",
          "text": [
            "208765272832732162\n"
          ]
        }
      ],
      "source": [
        "# Create experiment if not exists\n",
        "if client.get_experiment_by_name(exp_name) == None:\n",
        "    experiment_id = client.create_experiment(exp_name)\n",
        "else:\n",
        "    experiment = client.get_experiment_by_name(exp_name)\n",
        "    experiment_id = experiment.experiment_id\n",
        "\n",
        "print(experiment_id)"
      ]
    },
    {
      "attachments": {},
      "cell_type": "markdown",
      "metadata": {},
      "source": [
        "#### 3.2)Experiment Tracking"
      ]
    },
    {
      "cell_type": "code",
      "execution_count": 31,
      "metadata": {},
      "outputs": [],
      "source": [
        "def objective(trial,\n",
        "              X = train.drop(columns=[\"Time\",\"Class\"]).columns,\n",
        "              y = \"Class\",\n",
        "              labels = [\"non-fraud\", \"fraud\"],\n",
        "              cv = 3,\n",
        "              print_metrics = False,\n",
        "              optimize_metric = \"f1\",\n",
        "              val_size = .2\n",
        "             ):\n",
        "    \n",
        "    # ============================== HYPERPARAMETER SPACE ==============================\n",
        "\n",
        "    params = {\n",
        "            #Static Hyperparameters\n",
        "             'objective' : 'binary',\n",
        "             'n_jobs': -1,\n",
        "            #Hyperparameter Ranges\n",
        "            'n_estimators': trial.suggest_int('n_estimators', 300 , 500),\n",
        "            'num_iterations': trial.suggest_int('num_iterations', 100 , 500),\n",
        "            'learning_rate': trial.suggest_float('learning_rate', .1, .5), \n",
        "            'reg_lambda': trial.suggest_float('reg_lambda', .5 , 10, log=True),\n",
        "            'max_depth': trial.suggest_int('max_depth', 10, 15),\n",
        "            'min_child_weight':trial.suggest_float('min_child_weight', 1 , 100)\n",
        "        }  \n",
        "\n",
        "    # ============================== CROSS VALIDATION ==============================\n",
        "\n",
        "    f1_all=[]\n",
        "    recall_all = []\n",
        "    precision_all = []\n",
        "    accuracy_all = []\n",
        "    for i in range(cv):\n",
        "        X_train, X_val, y_train, y_val = train_test_split(train[X],\n",
        "                                                          train[y],\n",
        "                                                          test_size=val_size\n",
        "                                                          )\n",
        "        #Scale Data\n",
        "        scaler = MinMaxScaler()\n",
        "        X_train = pd.DataFrame(scaler.fit_transform(X_train),\n",
        "                               columns = X\n",
        "                               )\n",
        "        X_val = pd.DataFrame(scaler.transform(X_val),\n",
        "                             columns= X \n",
        "                             )\n",
        "        X_test = pd.DataFrame(scaler.transform(test[X]),\n",
        "                              columns = X \n",
        "                             )      \n",
        "        #Synthetic Data\n",
        "        sm= BorderlineSMOTE(kind=\"borderline-1\")\n",
        "        X_train, y_train=sm.fit_resample(X_train, y_train)\n",
        "        #Model     \n",
        "        model=LGBMClassifier(**(params))\n",
        "        model.fit(X_train,\n",
        "                  y_train,\n",
        "                  callbacks=[log_evaluation(0)],\n",
        "             )\n",
        "        ##Predicted Probabilities\n",
        "        preds_proba= model.predict_proba(X_val)[: ,1]\n",
        "        ##Optimize Threshold\n",
        "        thresholds = np.arange(0, 1, 0.1)\n",
        "        f1_scores = [f1_score(y_val, to_labels(preds_proba, t)) for t in thresholds]\n",
        "        f1_ix = np.argmax(f1_scores)\n",
        "        preds= np.where(preds_proba>=thresholds[f1_ix] , 1, 0)\n",
        "        ## Metrics\n",
        "        f1 = f1_score(y_val, preds)\n",
        "        recall = recall_score(y_val, preds)\n",
        "        precision = precision_score(y_val, preds)\n",
        "        accuracy = accuracy_score(y_val,preds)\n",
        "        #Append Metrics\n",
        "        f1_all.append(f1)\n",
        "        recall_all.append(recall)\n",
        "        precision_all.append(precision)\n",
        "        accuracy_all.append(precision)\n",
        "        if print_metrics:\n",
        "            print(f\"\\nCV SPLIT:{i}\\nMETRICS:\\n\\nf1 score: {f1}\\nrecall: {recall}\\nprecision: {precision}\\nprecision: {accuracy}\\n\\n\")\n",
        "\n",
        "    metrics_dict = {\n",
        "                    \"cv_mean_f1\": np.mean(f1_all),\n",
        "                    \"cv_mean_recall\": np.mean(recall_all),\n",
        "                    \"cv_mean_precision\": np.mean(precision_all),\n",
        "                    \"cv_mean_accuracy\": np.mean(accuracy_all),\n",
        "                    }\n",
        "\n",
        "    selected_metric = metrics_dict[f\"cv_mean_{optimize_metric}\"]\n",
        "\n",
        "    # ============================== WHOLE SAMPLE TRAINING AND MLFLOW LOGGING ==============================\n",
        "\n",
        "\n",
        "    mlflow.lightgbm.autolog()\n",
        "\n",
        "    #Manual logging\n",
        "    with mlflow.start_run(experiment_id = experiment_id) as run:\n",
        "        X_train, y_train  = train[X], train[y]\n",
        "        X_test, y_test  = test[X], test[y]\n",
        "        #Scale Data\n",
        "        scaler = MinMaxScaler()\n",
        "        X_train = pd.DataFrame(scaler.fit_transform(X_train),\n",
        "                               columns = X \n",
        "                              )\n",
        "        X_test = pd.DataFrame(scaler.transform(X_test),\n",
        "                              columns = X \n",
        "                              ) \n",
        "        #Synthetic Data\n",
        "        sm= BorderlineSMOTE(kind=\"borderline-1\")\n",
        "        X_train, y_train=sm.fit_resample(X_train, y_train)\n",
        "        #Model\n",
        "        eval_result = {}\n",
        "        model=LGBMClassifier(**(params))\n",
        "        model.fit(X_train,\n",
        "                  y_train,\n",
        "                  callbacks=[log_evaluation(0)],\n",
        "                 )\n",
        "        # Register metrics\n",
        "        cv_f1s = [mlflow.log_metric(f'cv_{i}_f1', f1_all[i]) for i in range(cv)]\n",
        "        cv_recalls = [mlflow.log_metric(f'cv_{i}_recall', recall_all[i]) for i in range(cv)]\n",
        "        cv_precisions = [mlflow.log_metric(f'cv_{i}_precision', precision_all[i]) for i in range(cv)]\n",
        "        cv_accuracies = [mlflow.log_metric(f'cv_{i}_accuracy', accuracy_all[i]) for i in range(cv)]\n",
        "        cv_mean_metrics = [mlflow.log_metric(k,v) for k,v in metrics_dict.items()]\n",
        "        # Create model signature\n",
        "        preds = model.predict(X_train)\n",
        "        signature = infer_signature(X_train, preds)\n",
        "        #Register Model\n",
        "        mlflow.lightgbm.log_model(model,\n",
        "                                  artifact_path= \"model\",\n",
        "                                  signature=signature\n",
        "                                 )\n",
        "        #Plot confusion matrix and shap values if this trial is the best\n",
        "        best_metric = mlflow.search_runs(experiment_ids=[experiment_id],\n",
        "                                    order_by=[f\"metrics.cv_mean_{optimize_metric} DESC\"],\n",
        "                                    max_results=1\n",
        "                                    )[f\"metrics.cv_mean_{optimize_metric}\"][0]\n",
        "        if selected_metric >= best_metric:\n",
        "            #Test Metrics\n",
        "            ordered_cols = model.booster_.feature_name()\n",
        "            # Predicted Probabilities\n",
        "            preds_proba= model.predict_proba(X_test[ordered_cols])[: ,1]\n",
        "            ##Optimize Threshold\n",
        "            thresholds = np.arange(0, 1, 0.1)\n",
        "            f1_scores = [f1_score(y_test, to_labels(preds_proba, t)) for t in thresholds]\n",
        "            f1_ix = np.argmax(f1_scores)\n",
        "            mlflow.log_metric(f'optimized_threshold',  thresholds[f1_ix])\n",
        "            # Predicted labels\n",
        "            preds= np.where(preds_proba>=thresholds[f1_ix] , 1, 0)\n",
        "            #Confusion Matrix\n",
        "            plot_confusion_matrix(y_test,\n",
        "                                  preds,\n",
        "                                  labels = labels,\n",
        "                                  save=True,\n",
        "                                  save_path = reports_dir\n",
        "                                 )\n",
        "            mlflow.log_artifact(os.path.join(reports_dir,\"confusion_matrix.png\"),\n",
        "                                artifact_path= \"test\"\n",
        "                                )\n",
        "            class_report = pd.DataFrame(classification_report(y_test,\n",
        "                                                              preds,\n",
        "                                                              output_dict = True,\n",
        "                                                              target_names= labels\n",
        "                                                             )\n",
        "                                        )\n",
        "            mlflow.log_table(data=class_report,\n",
        "                             artifact_file=\"test/classification_report.json\"\n",
        "                             )\n",
        "            mlflow.log_metric(f'test_f1', f1_score(y_test,preds))\n",
        "            mlflow.log_metric(f'test_recall', recall_score(y_test,preds))\n",
        "            mlflow.log_metric(f'test_precision', precision_score(y_test,preds))\n",
        "            mlflow.log_metric(f'test_accuracy', accuracy_score(y_test,preds))\n",
        "            #Shap Values\n",
        "            explainer = shap.TreeExplainer(model)\n",
        "            shap_values = explainer.shap_values(X_train[ordered_cols])\n",
        "            shap.summary_plot(shap_values[1], \n",
        "                                    X_train[ordered_cols],\n",
        "                                    show=False\n",
        "                                    )\n",
        "            plt.savefig(os.path.join(reports_dir,\"summary_plot.png\"))\n",
        "            plt.close()\n",
        "            mlflow.log_artifact(os.path.join(reports_dir,\"summary_plot.png\"),\n",
        "                                artifact_path= \"shap_values\"\n",
        "                                )\n",
        "\n",
        "            \n",
        "\n",
        "    return selected_metric"
      ]
    },
    {
      "cell_type": "code",
      "execution_count": null,
      "metadata": {},
      "outputs": [],
      "source": [
        "study = optuna.create_study(direction=\"maximize\",\n",
        "                           )\n",
        "study.optimize(objective,\n",
        "               timeout = 60*60*6,\n",
        "               n_trials=25,\n",
        "               gc_after_trial=True\n",
        "              )"
      ]
    },
    {
      "attachments": {},
      "cell_type": "markdown",
      "metadata": {
        "id": "TXyhcqD3ZAL_"
      },
      "source": [
        "#### 3.3)Retrieve Best Model\n",
        "\n",
        "MLflow utiliza un formato estándar para almacenar los modelos de ML. Esto permite, por ejemplo, entrenar un modelo en TensorFlow usando Keras, guardarlo, e importarlo desde cualquier servicio o plataform para su ejecución desde un entorno de Python u otro lenguaje de programación (con las dependencias que necesite).\n",
        "\n",
        "Depdendiendo de donde se entrene disponemos de una serie de **flavors** compatibles. En este caso podemos usar **keras** y **python_function**."
      ]
    },
    {
      "cell_type": "code",
      "execution_count": 38,
      "metadata": {},
      "outputs": [],
      "source": [
        "optimize_metric = \"f1\"\n",
        "runs =  mlflow.search_runs(experiment_ids=[experiment_id],\n",
        "                               order_by=[f\"metrics.cv_mean_{optimize_metric} DESC\"],\n",
        "                               max_results=1\n",
        "                              )\n",
        "best_run_id = runs.iloc[0][\"run_id\"]"
      ]
    },
    {
      "cell_type": "code",
      "execution_count": 39,
      "metadata": {},
      "outputs": [
        {
          "data": {
            "text/plain": [
              "'runs:/9120fd8f3cc14730ad8607e5f8d202d9/model'"
            ]
          },
          "execution_count": 39,
          "metadata": {},
          "output_type": "execute_result"
        }
      ],
      "source": [
        "#Retrieve best model uri\n",
        "best_model_uri = f\"runs:/{best_run_id}/model\"\n",
        "best_model_uri"
      ]
    },
    {
      "attachments": {},
      "cell_type": "markdown",
      "metadata": {
        "id": "o6iFPdKpZAMA"
      },
      "source": [
        "En la carpeta `model` disponemos del fichero MLmodel que define los flavors disponibles."
      ]
    },
    {
      "attachments": {
        "image.png": {
          "image/png": "[encoded data removed]"
        }
      },
      "cell_type": "markdown",
      "metadata": {},
      "source": [
        "![image.png](attachment:image.png)"
      ]
    },
    {
      "cell_type": "code",
      "execution_count": 33,
      "metadata": {},
      "outputs": [],
      "source": [
        "# Load model as a PyFuncModel.\n",
        "# best_model = mlflow.pyfunc.load_model(model_uri = best_model_uri)\n",
        "\n",
        "\n",
        "# Load model as a LGBMCLassifier\n",
        "best_model = mlflow.lightgbm.load_model(model_uri = best_model_uri)"
      ]
    },
    {
      "cell_type": "code",
      "execution_count": 34,
      "metadata": {},
      "outputs": [
        {
          "data": {
            "text/plain": [
              "lightgbm.sklearn.LGBMClassifier"
            ]
          },
          "execution_count": 34,
          "metadata": {},
          "output_type": "execute_result"
        }
      ],
      "source": [
        "type(best_model)"
      ]
    },
    {
      "cell_type": "code",
      "execution_count": 35,
      "metadata": {},
      "outputs": [],
      "source": [
        "#Prepare data for inference\n",
        "X = train.drop(columns=[\"Time\",\"Class\"]).columns\n",
        "y = \"Class\"\n",
        "X_train, y_train  = train[X], train[y]\n",
        "X_test, y_test  = test[X], test[y]\n",
        "\n",
        "\n",
        "scaler = MinMaxScaler()\n",
        "X_train = pd.DataFrame(scaler.fit_transform(X_train),\n",
        "                        columns = X \n",
        "                        )\n",
        "X_test = pd.DataFrame(scaler.transform(X_test),\n",
        "                        columns = X \n",
        "                        ) "
      ]
    },
    {
      "cell_type": "code",
      "execution_count": 36,
      "metadata": {},
      "outputs": [
        {
          "data": {
            "text/plain": [
              "array([0, 0, 0, ..., 0, 0, 0], dtype=int64)"
            ]
          },
          "execution_count": 36,
          "metadata": {},
          "output_type": "execute_result"
        }
      ],
      "source": [
        "#Predict\n",
        "best_model.predict(X_test)"
      ]
    },
    {
      "cell_type": "code",
      "execution_count": null,
      "metadata": {
        "id": "g9srXy5BZAMA"
      },
      "outputs": [],
      "source": [
        "type(model)"
      ]
    },
    {
      "attachments": {},
      "cell_type": "markdown",
      "metadata": {
        "id": "i7d0l9fFZAMF"
      },
      "source": [
        "Si quisieramos buscar todos los modelos que tenemos registrados podríamos hacerlo de la siguiente forma."
      ]
    },
    {
      "cell_type": "code",
      "execution_count": 37,
      "metadata": {
        "id": "52AIUKiKZAMG"
      },
      "outputs": [
        {
          "name": "stdout",
          "output_type": "stream",
          "text": [
            "creditcard_model\n"
          ]
        }
      ],
      "source": [
        "registered_models = client.search_registered_models()\n",
        "\n",
        "for rm in registered_models:\n",
        "    print(rm.name)"
      ]
    },
    {
      "attachments": {},
      "cell_type": "markdown",
      "metadata": {
        "id": "_STilCX9ZAMD"
      },
      "source": [
        "#### 3.4)Model Staging"
      ]
    },
    {
      "attachments": {},
      "cell_type": "markdown",
      "metadata": {
        "id": "FqFgTJT8ZAMG"
      },
      "source": [
        "Podemos establecer cuando un modelo es desplegado en producción con los stages, estos pueden ser:\n",
        "\n",
        "- `Staging`: desarrollo/pre-producción antes de ser desplegado a producción.\n",
        "- `Production`: producción despues de ser testeado.\n",
        "\n",
        "Estas etapas son simbólicas y sirven para cargar directamente el model registrado en producción y de esta forma que no haya errores en las apliación o softwares donde se quieran utilizar."
      ]
    },
    {
      "cell_type": "code",
      "execution_count": 48,
      "metadata": {},
      "outputs": [
        {
          "name": "stderr",
          "output_type": "stream",
          "text": [
            "Successfully registered model 'creditcard_model'.\n",
            "2023/06/27 15:12:53 INFO mlflow.tracking._model_registry.client: Waiting up to 300 seconds for model version to finish creation. Model name: creditcard_model, version 1\n",
            "Created version '1' of model 'creditcard_model'.\n"
          ]
        }
      ],
      "source": [
        "# Register best model\n",
        "best_model = mlflow.register_model(\n",
        "                                    best_model_uri,\n",
        "                                    model_name\n",
        "                    )"
      ]
    },
    {
      "cell_type": "code",
      "execution_count": null,
      "metadata": {
        "id": "rIef0f7kZAMG"
      },
      "outputs": [],
      "source": [
        "#Staging\n",
        "# model_staging = client.transition_model_version_stage(\n",
        "#                                                     name=model_name,\n",
        "#                                                     version=best_model.version,\n",
        "#                                                     stage=\"Staging\"\n",
        "#                                                     )"
      ]
    },
    {
      "cell_type": "code",
      "execution_count": 53,
      "metadata": {
        "id": "WoCgIDgnZAMH"
      },
      "outputs": [],
      "source": [
        "#Production\n",
        "model_prod = client.transition_model_version_stage(\n",
        "                                                    name=model_name,\n",
        "                                                    version=best_model.version,\n",
        "                                                    stage=\"Production\"\n",
        "                                                  )"
      ]
    },
    {
      "cell_type": "code",
      "execution_count": 54,
      "metadata": {
        "id": "TtUFHIntZAMH"
      },
      "outputs": [],
      "source": [
        "#Retrieve model in production\n",
        "prod_model = mlflow.lightgbm.load_model(model_uri=f\"models:/{model_name}/Production\")"
      ]
    },
    {
      "attachments": {},
      "cell_type": "markdown",
      "metadata": {
        "id": "I7SPPETqZAMH"
      },
      "source": [
        "##### Extra:LightGBM documentation"
      ]
    },
    {
      "attachments": {},
      "cell_type": "markdown",
      "metadata": {
        "id": "69zOeUgyXK6r"
      },
      "source": [
        "https://mlflow.org/docs/latest/python_api/mlflow.lightgbm.html#mlflow.lightgbm.autolog\n",
        "\n"
      ]
    }
  ],
  "metadata": {
    "accelerator": "GPU",
    "colab": {
      "provenance": []
    },
    "kernelspec": {
      "display_name": "Python 3 (ipykernel)",
      "language": "python",
      "name": "python3"
    },
    "language_info": {
      "codemirror_mode": {
        "name": "ipython",
        "version": 3
      },
      "file_extension": ".py",
      "mimetype": "text/x-python",
      "name": "python",
      "nbconvert_exporter": "python",
      "pygments_lexer": "ipython3",
      "version": "3.11.3"
    }
  },
  "nbformat": 4,
  "nbformat_minor": 0
}
